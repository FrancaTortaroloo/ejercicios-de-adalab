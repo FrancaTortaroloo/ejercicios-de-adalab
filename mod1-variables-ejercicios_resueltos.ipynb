{
 "cells": [
  {
   "cell_type": "code",
   "execution_count": 2,
   "metadata": {},
   "outputs": [
    {
     "name": "stdout",
     "output_type": "stream",
     "text": [
      "8\n",
      "cuatro\n"
     ]
    }
   ],
   "source": [
    "#1,2,3,4\n",
    "\n",
    "gatos = 8\n",
    "perros = \"cuatro\"\n",
    "\n",
    "print(gatos)\n",
    "print(perros)"
   ]
  },
  {
   "cell_type": "code",
   "execution_count": 4,
   "metadata": {},
   "outputs": [
    {
     "name": "stdout",
     "output_type": "stream",
     "text": [
      "cuatro más cuatro\n"
     ]
    }
   ],
   "source": [
    "#5\n",
    "print(perros + \" más \" + perros)"
   ]
  },
  {
   "cell_type": "code",
   "execution_count": 6,
   "metadata": {},
   "outputs": [
    {
     "name": "stdout",
     "output_type": "stream",
     "text": [
      "perros: cuatro más cuatro es igual a 8\n"
     ]
    }
   ],
   "source": [
    "#6\n",
    "print(\"perros: \" + perros + \" más \" + perros +  \" es igual a 8\")"
   ]
  },
  {
   "cell_type": "code",
   "execution_count": 7,
   "metadata": {},
   "outputs": [
    {
     "name": "stdout",
     "output_type": "stream",
     "text": [
      "perros: cuatro + cuatro = 8\n"
     ]
    }
   ],
   "source": [
    "#7\n",
    "print(\"perros: \" + perros + \" + \" + perros +  \" = 8\")"
   ]
  },
  {
   "cell_type": "code",
   "execution_count": 14,
   "metadata": {},
   "outputs": [
    {
     "name": "stdout",
     "output_type": "stream",
     "text": [
      "<class 'float'>\n",
      "<class 'str'>\n"
     ]
    }
   ],
   "source": [
    "#8,9,10,11,12 \n",
    "\n",
    "pizza = float(2)\n",
    "magdalenas = str(2)\n",
    "postres = int(0)\n",
    "\n",
    "print(type(pizza))\n",
    "print(type(magdalenas))"
   ]
  },
  {
   "cell_type": "code",
   "execution_count": 15,
   "metadata": {},
   "outputs": [],
   "source": [
    "#13\n",
    "postres = 0"
   ]
  },
  {
   "cell_type": "code",
   "execution_count": 19,
   "metadata": {},
   "outputs": [
    {
     "name": "stdout",
     "output_type": "stream",
     "text": [
      "10.0\n",
      "6.0\n",
      "16\n"
     ]
    }
   ],
   "source": [
    "#14,15,16\n",
    "\n",
    "suma = gatos + pizza\n",
    "print(suma)\n",
    "\n",
    "resta = gatos - pizza\n",
    "print(resta)\n",
    "\n",
    "multiplicacion = gatos * 2\n",
    "print(multiplicacion)"
   ]
  },
  {
   "cell_type": "code",
   "execution_count": 23,
   "metadata": {},
   "outputs": [
    {
     "name": "stdout",
     "output_type": "stream",
     "text": [
      "16.0\n",
      "48.0\n",
      "81\n"
     ]
    }
   ],
   "source": [
    "#17, 18,19\n",
    "\n",
    "piezas = pizza * 8\n",
    "print(piezas)\n",
    "\n",
    "piezas1 = piezas * 3\n",
    "print(piezas1)\n",
    "\n",
    "superficie = 9 **2\n",
    "print(superficie)"
   ]
  },
  {
   "cell_type": "code",
   "execution_count": 25,
   "metadata": {},
   "outputs": [
    {
     "name": "stdout",
     "output_type": "stream",
     "text": [
      "10.125\n",
      "2.0\n"
     ]
    }
   ],
   "source": [
    "#20, 21\n",
    "\n",
    "superficie_gato = superficie / gatos\n",
    "print(superficie_gato)\n",
    "\n",
    "piezas_gatos = piezas / gatos\n",
    "print(piezas_gatos)"
   ]
  },
  {
   "cell_type": "code",
   "execution_count": 28,
   "metadata": {},
   "outputs": [
    {
     "name": "stdout",
     "output_type": "stream",
     "text": [
      "0.38095238095238093\n"
     ]
    }
   ],
   "source": [
    "consigna_22 = gatos / 21 * 1\n",
    "print(consigna_22)"
   ]
  },
  {
   "cell_type": "code",
   "execution_count": 59,
   "metadata": {},
   "outputs": [
    {
     "name": "stdout",
     "output_type": "stream",
     "text": [
      "10.1\n"
     ]
    }
   ],
   "source": [
    "#23\n",
    "print(round(superficie / gatos,1))"
   ]
  },
  {
   "cell_type": "code",
   "execution_count": 30,
   "metadata": {},
   "outputs": [
    {
     "name": "stdout",
     "output_type": "stream",
     "text": [
      "True\n",
      "True\n"
     ]
    }
   ],
   "source": [
    "# 24\n",
    "print(gatos > pizza)\n",
    "\n",
    "#25\n",
    "print(gatos < superficie)"
   ]
  },
  {
   "cell_type": "code",
   "execution_count": 34,
   "metadata": {},
   "outputs": [
    {
     "name": "stdout",
     "output_type": "stream",
     "text": [
      "True\n",
      "False\n",
      "True\n",
      "True\n"
     ]
    }
   ],
   "source": [
    "#26\n",
    "print(pizza*2 != gatos)\n",
    "\n",
    "#27\n",
    "print(pizza*2 == gatos)\n",
    "\n",
    "#28\n",
    "print(piezas >= pizza and superficie != 0)\n",
    "\n",
    "#29\n",
    "print (piezas >= pizza and piezas < superficie)"
   ]
  },
  {
   "cell_type": "code",
   "execution_count": 37,
   "metadata": {},
   "outputs": [
    {
     "name": "stdout",
     "output_type": "stream",
     "text": [
      "False\n",
      "0.0\n"
     ]
    }
   ],
   "source": [
    "#30\n",
    "print(pizza > gatos)\n",
    "print(piezas % gatos)"
   ]
  },
  {
   "cell_type": "code",
   "execution_count": 62,
   "metadata": {},
   "outputs": [
    {
     "name": "stdout",
     "output_type": "stream",
     "text": [
      "True\n"
     ]
    }
   ],
   "source": [
    "#31---- DUDAS\n",
    "\n",
    "print(pizza <= piezas < superficie)\n"
   ]
  },
  {
   "cell_type": "code",
   "execution_count": 38,
   "metadata": {},
   "outputs": [
    {
     "name": "stdout",
     "output_type": "stream",
     "text": [
      "False\n"
     ]
    }
   ],
   "source": [
    "#32\n",
    "print(superficie == 0)"
   ]
  },
  {
   "cell_type": "code",
   "execution_count": 5,
   "metadata": {},
   "outputs": [
    {
     "name": "stdout",
     "output_type": "stream",
     "text": [
      "\n"
     ]
    }
   ],
   "source": [
    "#33\n",
    "\n",
    "dia_de_cumple = input(\"Cuándo es el día de tu cumpleaños?: \")\n",
    "dia_de_cumple1 = dia_de_cumple.strip()\n",
    "print(dia_de_cumple1)"
   ]
  },
  {
   "cell_type": "code",
   "execution_count": 51,
   "metadata": {},
   "outputs": [
    {
     "name": "stdout",
     "output_type": "stream",
     "text": [
      "febrero\n"
     ]
    }
   ],
   "source": [
    "#34\n",
    "\n",
    "mes_cumple = input(\"Cuál es el mes de tu cumpleaños?: \")\n",
    "mes_cumple1 = mes_cumple.strip()\n",
    "print(mes_cumple1)"
   ]
  },
  {
   "cell_type": "code",
   "execution_count": 55,
   "metadata": {},
   "outputs": [
    {
     "name": "stdout",
     "output_type": "stream",
     "text": [
      "Fecha de cumpleaños es: 17 febrero\n"
     ]
    }
   ],
   "source": [
    "#36\n",
    "\n",
    "fecha_cumple = dia_de_cumple1 + \" \" + mes_cumple1\n",
    "print(\"Fecha de cumpleaños es: \" + fecha_cumple)"
   ]
  },
  {
   "cell_type": "code",
   "execution_count": 56,
   "metadata": {},
   "outputs": [
    {
     "name": "stdout",
     "output_type": "stream",
     "text": [
      "CUATRO\n"
     ]
    }
   ],
   "source": [
    "#37\n",
    "\n",
    "print(perros.upper())\n"
   ]
  }
 ],
 "metadata": {
  "kernelspec": {
   "display_name": "Python 3",
   "language": "python",
   "name": "python3"
  },
  "language_info": {
   "codemirror_mode": {
    "name": "ipython",
    "version": 3
   },
   "file_extension": ".py",
   "mimetype": "text/x-python",
   "name": "python",
   "nbconvert_exporter": "python",
   "pygments_lexer": "ipython3",
   "version": "3.11.5"
  }
 },
 "nbformat": 4,
 "nbformat_minor": 2
}
